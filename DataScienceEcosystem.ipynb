{
  "nbformat": 4,
  "nbformat_minor": 0,
  "metadata": {
    "colab": {
      "provenance": [],
      "authorship_tag": "ABX9TyNzxerHkHu1KxTtw/AigrEh",
      "include_colab_link": true
    },
    "kernelspec": {
      "name": "python3",
      "display_name": "Python 3"
    },
    "language_info": {
      "name": "python"
    }
  },
  "cells": [
    {
      "cell_type": "markdown",
      "metadata": {
        "id": "view-in-github",
        "colab_type": "text"
      },
      "source": [
        "<a href=\"https://colab.research.google.com/github/mauricio-espinola/Lab-Working-with-files-in-Jupyter-Notebooks-/blob/main/DataScienceEcosystem.ipynb\" target=\"_parent\"><img src=\"https://colab.research.google.com/assets/colab-badge.svg\" alt=\"Open In Colab\"/></a>"
      ]
    },
    {
      "cell_type": "markdown",
      "source": [
        "# Data Science Tools and Ecosystem"
      ],
      "metadata": {
        "id": "UDqT51ffu_op"
      }
    },
    {
      "cell_type": "markdown",
      "source": [
        "In this notebook, Data Science Tools and Ecosystem are summarized"
      ],
      "metadata": {
        "id": "vRUOg-FXGTxb"
      }
    },
    {
      "cell_type": "markdown",
      "source": [
        "**Objectives**:\n",
        "\n",
        "- Python\n",
        "- R\n",
        "- C++\n",
        "- java"
      ],
      "metadata": {
        "id": "-ywAkebQcEG5"
      }
    },
    {
      "cell_type": "markdown",
      "source": [
        "Some of the popular languages that Data Scientists use are:\n",
        "1. Python\n",
        "2. R\n",
        "3. C++\n",
        "4. Scala\n",
        "5. Java"
      ],
      "metadata": {
        "id": "sHm37ckmGgdc"
      }
    },
    {
      "cell_type": "markdown",
      "source": [
        "Some of the commonly used libraries used by Data Scientists include:\n",
        "***\n",
        "1. Pandas\n",
        "2. Numpy\n",
        "3. Ploty\n",
        "4. Keras"
      ],
      "metadata": {
        "id": "Du6K43L6Hvl0"
      }
    },
    {
      "cell_type": "markdown",
      "source": [
        "\n",
        "|Data Science Tools|\n",
        "|----------|\n",
        "|RTensorFlow.js|\n",
        "|Ggplot2|\n",
        "|Jupyter Notebooks|\n",
        "|R Studio|"
      ],
      "metadata": {
        "id": "4nOFrDokNd0A"
      }
    },
    {
      "cell_type": "markdown",
      "source": [
        "### Below are a few examples of evaluating arithmetic expressions in Python\n",
        "\n",
        "$\\sqrt{3x-1}+(1+x)^2$<br>\n",
        "$\\sqrt{3x-1}+(1+x)^2$<br>\n",
        "$f\\left(k\\right) = \\binom{n}{k} p^k\\left(1-p\\right)^{n-k}$"
      ],
      "metadata": {
        "id": "beHsp1a8RO7S"
      }
    },
    {
      "cell_type": "markdown",
      "source": [
        "## This a simple arithmetic expression to mutiply then add integers"
      ],
      "metadata": {
        "id": "N1s6CZFHXJV5"
      }
    },
    {
      "cell_type": "code",
      "source": [
        "(3*4)+5"
      ],
      "metadata": {
        "colab": {
          "base_uri": "https://localhost:8080/"
        },
        "id": "Jmv4H5sCXMWx",
        "outputId": "2d8ddf2d-ecef-40c1-957d-1ceedf62219b"
      },
      "execution_count": null,
      "outputs": [
        {
          "output_type": "execute_result",
          "data": {
            "text/plain": [
              "17"
            ]
          },
          "metadata": {},
          "execution_count": 5
        }
      ]
    },
    {
      "cell_type": "markdown",
      "source": [
        "This will convert 200 minutes to hours by diving by 60"
      ],
      "metadata": {
        "id": "iQcxuZrdXnhm"
      }
    },
    {
      "cell_type": "code",
      "source": [
        "200/60"
      ],
      "metadata": {
        "colab": {
          "base_uri": "https://localhost:8080/"
        },
        "id": "1WQrtYNpYhMe",
        "outputId": "29a89705-f38b-4ef0-cb89-20bb2854f6df"
      },
      "execution_count": null,
      "outputs": [
        {
          "output_type": "execute_result",
          "data": {
            "text/plain": [
              "3.3333333333333335"
            ]
          },
          "metadata": {},
          "execution_count": 6
        }
      ]
    },
    {
      "cell_type": "markdown",
      "source": [
        "## Author:\n",
        "Mauricio Espínola G.\n"
      ],
      "metadata": {
        "id": "3eDnueKydnl4"
      }
    },
    {
      "cell_type": "markdown",
      "source": [
        "[Hands-on Lab: Getting Started with GitHub ](https://github.com/mauricio-espinola/Lab-Working-with-files-in-Jupyter-Notebooks-)"
      ],
      "metadata": {
        "id": "K85VXdFuguuJ"
      }
    }
  ]
}